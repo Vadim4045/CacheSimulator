{
 "cells": [
  {
   "cell_type": "code",
   "execution_count": 21,
   "id": "aa8e3d1e-c613-43a7-abb0-15d20df61ccf",
   "metadata": {},
   "outputs": [
    {
     "data": {
      "text/html": [
       "<div>\n",
       "<style scoped>\n",
       "    .dataframe tbody tr th:only-of-type {\n",
       "        vertical-align: middle;\n",
       "    }\n",
       "\n",
       "    .dataframe tbody tr th {\n",
       "        vertical-align: top;\n",
       "    }\n",
       "\n",
       "    .dataframe thead th {\n",
       "        text-align: right;\n",
       "    }\n",
       "</style>\n",
       "<table border=\"1\" class=\"dataframe\">\n",
       "  <thead>\n",
       "    <tr style=\"text-align: right;\">\n",
       "      <th></th>\n",
       "      <th>Page_size</th>\n",
       "      <th>Levels</th>\n",
       "      <th>L1_size</th>\n",
       "      <th>L1_sets</th>\n",
       "      <th>L2_size</th>\n",
       "      <th>L2_sets</th>\n",
       "      <th>L3_size</th>\n",
       "      <th>L3_sets</th>\n",
       "      <th>DDR_banks</th>\n",
       "      <th>DDR_row_size</th>\n",
       "      <th>IP</th>\n",
       "      <th>Trace_AVG</th>\n",
       "      <th>Prog_AVG</th>\n",
       "    </tr>\n",
       "  </thead>\n",
       "  <tbody>\n",
       "    <tr>\n",
       "      <th>0</th>\n",
       "      <td>64</td>\n",
       "      <td>3</td>\n",
       "      <td>16</td>\n",
       "      <td>1</td>\n",
       "      <td>512</td>\n",
       "      <td>1</td>\n",
       "      <td>2048</td>\n",
       "      <td>1</td>\n",
       "      <td>16</td>\n",
       "      <td>2</td>\n",
       "      <td>0</td>\n",
       "      <td>22</td>\n",
       "      <td>5</td>\n",
       "    </tr>\n",
       "    <tr>\n",
       "      <th>1</th>\n",
       "      <td>64</td>\n",
       "      <td>3</td>\n",
       "      <td>16</td>\n",
       "      <td>2</td>\n",
       "      <td>512</td>\n",
       "      <td>1</td>\n",
       "      <td>2048</td>\n",
       "      <td>1</td>\n",
       "      <td>16</td>\n",
       "      <td>2</td>\n",
       "      <td>0</td>\n",
       "      <td>14</td>\n",
       "      <td>3</td>\n",
       "    </tr>\n",
       "    <tr>\n",
       "      <th>2</th>\n",
       "      <td>64</td>\n",
       "      <td>3</td>\n",
       "      <td>16</td>\n",
       "      <td>4</td>\n",
       "      <td>512</td>\n",
       "      <td>1</td>\n",
       "      <td>2048</td>\n",
       "      <td>1</td>\n",
       "      <td>16</td>\n",
       "      <td>2</td>\n",
       "      <td>0</td>\n",
       "      <td>15</td>\n",
       "      <td>3</td>\n",
       "    </tr>\n",
       "    <tr>\n",
       "      <th>3</th>\n",
       "      <td>64</td>\n",
       "      <td>3</td>\n",
       "      <td>16</td>\n",
       "      <td>8</td>\n",
       "      <td>512</td>\n",
       "      <td>1</td>\n",
       "      <td>2048</td>\n",
       "      <td>1</td>\n",
       "      <td>16</td>\n",
       "      <td>2</td>\n",
       "      <td>0</td>\n",
       "      <td>17</td>\n",
       "      <td>4</td>\n",
       "    </tr>\n",
       "  </tbody>\n",
       "</table>\n",
       "</div>"
      ],
      "text/plain": [
       "   Page_size  Levels  L1_size  L1_sets  L2_size  L2_sets  L3_size  L3_sets  \\\n",
       "0         64       3       16        1      512        1     2048        1   \n",
       "1         64       3       16        2      512        1     2048        1   \n",
       "2         64       3       16        4      512        1     2048        1   \n",
       "3         64       3       16        8      512        1     2048        1   \n",
       "\n",
       "   DDR_banks  DDR_row_size  IP  Trace_AVG  Prog_AVG  \n",
       "0         16             2   0         22         5  \n",
       "1         16             2   0         14         3  \n",
       "2         16             2   0         15         3  \n",
       "3         16             2   0         17         4  "
      ]
     },
     "execution_count": 21,
     "metadata": {},
     "output_type": "execute_result"
    }
   ],
   "source": [
    "import pandas as pd\n",
    "import seaborn as sns\n",
    "import matplotlib.pyplot as plt\n",
    "import numpy as np\n",
    "\n",
    "data = pd.read_csv('./logs/Cache_simulator_statistic.csv', delimiter=';')\n",
    "\n",
    "data.head()"
   ]
  },
  {
   "cell_type": "code",
   "execution_count": 22,
   "id": "eae36972-f54e-4ba5-868e-50a357c98503",
   "metadata": {
    "tags": []
   },
   "outputs": [],
   "source": [
    "columns = data.columns\n",
    "\n",
    "y1 = columns[-2]\n",
    "y2 = columns[-1]\n",
    "\n",
    "pairplot_columns = columns[:-2]\n",
    "filtered_columns = [col for col in pairplot_columns if data[col].nunique() > 1]\n",
    "\n",
    "def create_pairplots(data, pairplot_columns, y_var, group_size=5):\n",
    "    n = len(pairplot_columns)\n",
    "    for i in range(0, n, group_size):\n",
    "        current_columns = pairplot_columns[i:i + group_size]\n",
    "        pairplot = sns.pairplot(data=data, y_vars=[y_var], x_vars=current_columns)\n",
    "        \n",
    "        for ax in pairplot.axes.flatten():\n",
    "            if ax.get_xlim()[1] > 0:\n",
    "                xticks = np.linspace(0, ax.get_xlim()[1], 3)\n",
    "                ax.set_xticks(xticks)\n",
    "                ax.set_xticklabels([f'{tick:.0f}' for tick in xticks])\n",
    "        \n",
    "        plt.suptitle(f'{y_var} cost', y=1.02)\n",
    "        plt.show()"
   ]
  },
  {
   "cell_type": "code",
   "execution_count": 23,
   "id": "e0c0712c-f235-4ba7-97b6-ad0bafd7abd6",
   "metadata": {
    "tags": []
   },
   "outputs": [
    {
     "name": "stderr",
     "output_type": "stream",
     "text": [
      "/Users/boss/anaconda3/lib/python3.11/site-packages/seaborn/axisgrid.py:118: UserWarning: The figure layout has changed to tight\n",
      "  self._figure.tight_layout(*args, **kwargs)\n"
     ]
    },
    {
     "data": {
      "image/png": "[encoded data removed]",
      "text/plain": [
       "<Figure size 250x250 with 1 Axes>"
      ]
     },
     "metadata": {},
     "output_type": "display_data"
    }
   ],
   "source": [
    "create_pairplots(data, filtered_columns, y1)"
   ]
  },
  {
   "cell_type": "code",
   "execution_count": 24,
   "id": "5c3e96b3-3a24-45b3-9088-622bf2a3d68e",
   "metadata": {},
   "outputs": [
    {
     "name": "stderr",
     "output_type": "stream",
     "text": [
      "/Users/boss/anaconda3/lib/python3.11/site-packages/seaborn/axisgrid.py:118: UserWarning: The figure layout has changed to tight\n",
      "  self._figure.tight_layout(*args, **kwargs)\n"
     ]
    },
    {
     "data": {
      "image/png": "[encoded data removed]",
      "text/plain": [
       "<Figure size 250x250 with 1 Axes>"
      ]
     },
     "metadata": {},
     "output_type": "display_data"
    }
   ],
   "source": [
    "create_pairplots(data, filtered_columns, y2)"
   ]
  },
  {
   "cell_type": "code",
   "execution_count": null,
   "id": "baa5694f-5720-40ed-ab4c-c2504b4d6c64",
   "metadata": {},
   "outputs": [],
   "source": []
  },
  {
   "cell_type": "code",
   "execution_count": null,
   "id": "9e980f7c-7734-40f9-95b5-f395840d97d2",
   "metadata": {},
   "outputs": [],
   "source": []
  }
 ],
 "metadata": {
  "kernelspec": {
   "display_name": "Python 3 (ipykernel)",
   "language": "python",
   "name": "python3"
  },
  "language_info": {
   "codemirror_mode": {
    "name": "ipython",
    "version": 3
   },
   "file_extension": ".py",
   "mimetype": "text/x-python",
   "name": "python",
   "nbconvert_exporter": "python",
   "pygments_lexer": "ipython3",
   "version": "3.11.5"
  }
 },
 "nbformat": 4,
 "nbformat_minor": 5
}
